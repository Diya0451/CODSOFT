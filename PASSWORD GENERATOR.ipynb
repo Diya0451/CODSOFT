{
 "cells": [
  {
   "cell_type": "code",
   "execution_count": 1,
   "id": "8666986a-cb5f-402f-a112-1e541454c5ec",
   "metadata": {},
   "outputs": [],
   "source": [
    "import tkinter as tk\n",
    "from tkinter import ttk\n",
    "import random\n",
    "import string\n",
    "def generate_password():\n",
    "    length = int(length_var.get())\n",
    "    #valid characters to choose \n",
    "    characters = string.ascii_letters+string.digits+string.punctuation\n",
    "    password = ''.join(\n",
    "        random.choice(characters)\n",
    "        for _ in range(length)\n",
    "    )\n",
    "    result_var.set(password)\n",
    "\n",
    "#create the main window\n",
    "root = tk.Tk()\n",
    "root.title(\"Password Generator\")\n",
    "root.geometry(\"300x150\")\n",
    "\n",
    "length_var = tk.StringVar(value=\" \")\n",
    "result_var = tk.StringVar()\n",
    "#input password length\n",
    "ttk.Label(root, text=\"Password Length:\").pack(pady=5)\n",
    "ttk.Entry(root, textvariable=length_var, width=5).pack()\n",
    "#add button to generate password\n",
    "ttk.Button(root, text=\"Generate\", command=generate_password).pack(pady=10)\n",
    "ttk.Label(root, text=\"Generate Password:\").pack()\n",
    "ttk.Entry(root, textvariable=result_var, state=\"readonly\").pack()\n",
    "\n",
    "root.mainloop()"
   ]
  },
  {
   "cell_type": "code",
   "execution_count": null,
   "id": "e7546d7f-8639-428d-96bd-45e8ff2c234c",
   "metadata": {},
   "outputs": [],
   "source": []
  }
 ],
 "metadata": {
  "kernelspec": {
   "display_name": "Python 3 (ipykernel)",
   "language": "python",
   "name": "python3"
  },
  "language_info": {
   "codemirror_mode": {
    "name": "ipython",
    "version": 3
   },
   "file_extension": ".py",
   "mimetype": "text/x-python",
   "name": "python",
   "nbconvert_exporter": "python",
   "pygments_lexer": "ipython3",
   "version": "3.11.7"
  }
 },
 "nbformat": 4,
 "nbformat_minor": 5
}
