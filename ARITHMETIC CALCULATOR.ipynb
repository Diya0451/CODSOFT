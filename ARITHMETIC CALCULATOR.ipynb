{
 "cells": [
  {
   "cell_type": "code",
   "execution_count": 2,
   "id": "e1188fd0-cfbf-4215-b767-c438500affe5",
   "metadata": {},
   "outputs": [
    {
     "name": "stdin",
     "output_type": "stream",
     "text": [
      "Enter an operator (+ - * /):  -\n",
      "num1:  9\n",
      "num2:  6\n"
     ]
    },
   ],
   "source": [
    "#CODE FOR CALCULATOR\n",
    "#Select an operator\n",
    "operator = input(\"Enter an operator (+ - * /): \")\n",
    "#Input numbers\n",
    "number1=float(input(\"num1: \"))\n",
    "number2=float(input(\"num2: \"))\n",
    "#Perform operation\n",
    "if operator == \"+\":\n",
    "    result = number1 + number2\n",
    "    print(round(result))\n",
    "elif operator == \"-\":\n",
    "    result = number1 - number2\n",
    "    print(round(result))\n",
    "elif operator == \"*\":\n",
    "    result = number1 * number2\n",
    "    print(round(result))\n",
    "elif operator == \"/\":\n",
    "    if number2==0:\n",
    "        print(\"Error\")\n",
    "    else:\n",
    "        result = number1 / number2\n",
    "        print(round(result))\n",
    "else:\n",
    "    print(f\"{operator} is not a valid operator\")"
   ]
  },
  {
   "cell_type": "code",
   "execution_count": null,
   "id": "3f865399-ca70-447f-98df-9d307434d032",
   "metadata": {},
   "outputs": [],
   "source": []
  }
 ],
 "metadata": {
  "kernelspec": {
   "display_name": "Python 3 (ipykernel)",
   "language": "python",
   "name": "python3"
  },
  "language_info": {
   "codemirror_mode": {
    "name": "ipython",
    "version": 3
   },
   "file_extension": ".py",
   "mimetype": "text/x-python",
   "name": "python",
   "nbconvert_exporter": "python",
   "pygments_lexer": "ipython3",
   "version": "3.11.7"
  }
 },
 "nbformat": 4,
 "nbformat_minor": 5
}
