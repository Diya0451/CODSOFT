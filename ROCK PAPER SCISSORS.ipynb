{
 "cells": [
  {
   "cell_type": "code",
   "execution_count": 4,
   "id": "063c0d92-77be-48b2-9c50-90ddd897e497",
   "metadata": {},
   "outputs": [
    {
     "name": "stdin",
     "output_type": "stream",
     "text": [
      "Enter your choice(1. Rock,2. Paper,3. Scissors):  2\n"
     ]
    },
    {
     "name": "stdout",
     "output_type": "stream",
     "text": [
      "It's a tie!\n"
     ]
    },
    {
     "name": "stdin",
     "output_type": "stream",
     "text": [
      "Want to play again?(Yes/No) NO\n"
     ]
    }
   ],
   "source": [
    "import random\n",
    "rock=1\n",
    "paper=2\n",
    "scissors=3\n",
    "while True:\n",
    "    Your_choice=int(input(\"Enter your choice(1. Rock,2. Paper,3. Scissors): \"))\n",
    "    Computer_choice=random.randint(1,3)\n",
    "    if Your_choice==rock and Computer_choice==scissors:\n",
    "        print(\"You win! Rock beats Scissors\")\n",
    "    elif Your_choice==paper and Computer_choice==rock:\n",
    "        print(\"You win! Paper beats Rock\")\n",
    "    elif Your_choice==scissors and Computer_choice==paper:\n",
    "        print(\"You win! Scissors beats Paper\")\n",
    "    elif Your_choice==Computer_choice:\n",
    "        print(\"It's a tie!\")\n",
    "    else:\n",
    "        print(\"You lose\")\n",
    "        print()\n",
    "    user_choice=input(\"Want to play again?(Yes/No)\")\n",
    "    if(user_choice==\"Yes\"):\n",
    "        continue\n",
    "    else:\n",
    "        break"
   ]
  },
  {
   "cell_type": "code",
   "execution_count": null,
   "id": "c2ff5f9e-88b8-470e-a138-39817880ca24",
   "metadata": {},
   "outputs": [],
   "source": []
  }
 ],
 "metadata": {
  "kernelspec": {
   "display_name": "Python 3 (ipykernel)",
   "language": "python",
   "name": "python3"
  },
  "language_info": {
   "codemirror_mode": {
    "name": "ipython",
    "version": 3
   },
   "file_extension": ".py",
   "mimetype": "text/x-python",
   "name": "python",
   "nbconvert_exporter": "python",
   "pygments_lexer": "ipython3",
   "version": "3.11.7"
  }
 },
 "nbformat": 4,
 "nbformat_minor": 5
}
